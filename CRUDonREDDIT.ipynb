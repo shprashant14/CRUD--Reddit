{
 "cells": [
  {
   "cell_type": "code",
   "execution_count": 1,
   "metadata": {
    "colab": {
     "base_uri": "https://localhost:8080/"
    },
    "id": "-lW4P5G1KmYx",
    "outputId": "209f83fc-e57a-4d1e-ccfe-4da849f2736e"
   },
   "outputs": [
    {
     "name": "stdout",
     "output_type": "stream",
     "text": [
      "Collecting praw\n",
      "  Downloading praw-7.8.1-py3-none-any.whl.metadata (9.4 kB)\n",
      "Collecting prawcore<3,>=2.4 (from praw)\n",
      "  Downloading prawcore-2.4.0-py3-none-any.whl.metadata (5.0 kB)\n",
      "Collecting update_checker>=0.18 (from praw)\n",
      "  Downloading update_checker-0.18.0-py3-none-any.whl.metadata (2.3 kB)\n",
      "Requirement already satisfied: websocket-client>=0.54.0 in /usr/local/lib/python3.10/dist-packages (from praw) (1.8.0)\n",
      "Requirement already satisfied: requests<3.0,>=2.6.0 in /usr/local/lib/python3.10/dist-packages (from prawcore<3,>=2.4->praw) (2.32.3)\n",
      "Requirement already satisfied: charset-normalizer<4,>=2 in /usr/local/lib/python3.10/dist-packages (from requests<3.0,>=2.6.0->prawcore<3,>=2.4->praw) (3.4.0)\n",
      "Requirement already satisfied: idna<4,>=2.5 in /usr/local/lib/python3.10/dist-packages (from requests<3.0,>=2.6.0->prawcore<3,>=2.4->praw) (3.10)\n",
      "Requirement already satisfied: urllib3<3,>=1.21.1 in /usr/local/lib/python3.10/dist-packages (from requests<3.0,>=2.6.0->prawcore<3,>=2.4->praw) (2.2.3)\n",
      "Requirement already satisfied: certifi>=2017.4.17 in /usr/local/lib/python3.10/dist-packages (from requests<3.0,>=2.6.0->prawcore<3,>=2.4->praw) (2024.8.30)\n",
      "Downloading praw-7.8.1-py3-none-any.whl (189 kB)\n",
      "\u001b[2K   \u001b[90m━━━━━━━━━━━━━━━━━━━━━━━━━━━━━━━━━━━━━━━━\u001b[0m \u001b[32m189.3/189.3 kB\u001b[0m \u001b[31m3.9 MB/s\u001b[0m eta \u001b[36m0:00:00\u001b[0m\n",
      "\u001b[?25hDownloading prawcore-2.4.0-py3-none-any.whl (17 kB)\n",
      "Downloading update_checker-0.18.0-py3-none-any.whl (7.0 kB)\n",
      "Installing collected packages: update_checker, prawcore, praw\n",
      "Successfully installed praw-7.8.1 prawcore-2.4.0 update_checker-0.18.0\n"
     ]
    }
   ],
   "source": [
    "!pip install praw"
   ]
  },
  {
   "cell_type": "code",
   "execution_count": null,
   "metadata": {
    "colab": {
     "base_uri": "https://localhost:8080/"
    },
    "id": "s9I9R99kKq_3",
    "outputId": "89a44bad-da82-4fca-e90b-69e4fce50b32"
   },
   "outputs": [
    {
     "name": "stderr",
     "output_type": "stream",
     "text": [
      "WARNING:praw:It appears that you are using PRAW in an asynchronous environment.\n",
      "It is strongly recommended to use Async PRAW: https://asyncpraw.readthedocs.io.\n",
      "See https://praw.readthedocs.io/en/latest/getting_started/multiple_instances.html#discord-bots-and-asynchronous-environments for more info.\n",
      "\n"
     ]
    },
    {
     "name": "stdout",
     "output_type": "stream",
     "text": [
      "Authenticated as: Exciting-Demand-8234\n"
     ]
    }
   ],
   "source": [
    "import praw\n",
    "\n",
    "reddit = praw.Reddit(\n",
    "    client_id=\"replace with ClientID\",\n",
    "    client_secret=\"replace with secret\",\n",
    "    user_agent=\"replace with useragent as- ApplicationName(name of the reddit application)/vesrion(ex- 1.0,2.0) by Username(reddit username)\",\n",
    "    username=\"replace with reddit username\",\n",
    "    password=\"replace with your account password\"\n",
    ")\n",
    "\n",
    "try:\n",
    "    print(f\"Authenticated as: {reddit.user.me()}\")\n",
    "except Exception as e:\n",
    "    print(\"Failed to authenticate:\", e)\n"
   ]
  },
  {
   "cell_type": "markdown",
   "metadata": {
    "id": "eQzN9W2tMxc7"
   },
   "source": [
    "Creating a Post\n"
   ]
  },
  {
   "cell_type": "code",
   "execution_count": 3,
   "metadata": {
    "colab": {
     "base_uri": "https://localhost:8080/"
    },
    "id": "pT4g_Hx_Mjy-",
    "outputId": "e944ccd7-b2be-429b-de2d-3b9d94ff3b2b"
   },
   "outputs": [
    {
     "name": "stderr",
     "output_type": "stream",
     "text": [
      "WARNING:praw:It appears that you are using PRAW in an asynchronous environment.\n",
      "It is strongly recommended to use Async PRAW: https://asyncpraw.readthedocs.io.\n",
      "See https://praw.readthedocs.io/en/latest/getting_started/multiple_instances.html#discord-bots-and-asynchronous-environments for more info.\n",
      "\n",
      "WARNING:praw:It appears that you are using PRAW in an asynchronous environment.\n",
      "It is strongly recommended to use Async PRAW: https://asyncpraw.readthedocs.io.\n",
      "See https://praw.readthedocs.io/en/latest/getting_started/multiple_instances.html#discord-bots-and-asynchronous-environments for more info.\n",
      "\n"
     ]
    },
    {
     "name": "stdout",
     "output_type": "stream",
     "text": [
      "Created post: Hello Reddit from Colab! (ID: 1gtix07)\n"
     ]
    }
   ],
   "source": [
    "def create_post(subreddit_name, title, content):\n",
    "    subreddit = reddit.subreddit(subreddit_name)\n",
    "    post = subreddit.submit(title, selftext=content)\n",
    "    print(f\"Created post: {post.title} (ID: {post.id})\")\n",
    "\n",
    "create_post(\"test\", \"Hello Reddit from Colab!\", \"This is my first post via Python in Google Colab.\")"
   ]
  },
  {
   "cell_type": "markdown",
   "metadata": {
    "id": "quAE-fw8NHFO"
   },
   "source": [
    "Reading"
   ]
  },
  {
   "cell_type": "code",
   "execution_count": 14,
   "metadata": {
    "colab": {
     "base_uri": "https://localhost:8080/"
    },
    "id": "ENnb6rYqM7Bd",
    "outputId": "85b62654-23b9-42af-aec5-68299d0c0040"
   },
   "outputs": [
    {
     "name": "stderr",
     "output_type": "stream",
     "text": [
      "WARNING:praw:It appears that you are using PRAW in an asynchronous environment.\n",
      "It is strongly recommended to use Async PRAW: https://asyncpraw.readthedocs.io.\n",
      "See https://praw.readthedocs.io/en/latest/getting_started/multiple_instances.html#discord-bots-and-asynchronous-environments for more info.\n",
      "\n"
     ]
    },
    {
     "name": "stdout",
     "output_type": "stream",
     "text": [
      "Title: Hello Reddit from Colab!\n",
      "Score: 1\n",
      "ID: 1gtix07\n",
      "\n",
      "Title: abcd\n",
      "Score: 1\n",
      "ID: 1gtilz8\n",
      "\n"
     ]
    }
   ],
   "source": [
    "def read_posts(subreddit_name, limit=5):\n",
    "    subreddit = reddit.subreddit(subreddit_name)\n",
    "    for submission in subreddit.new(limit=limit):\n",
    "        print(f\"Title: {submission.title}\\nScore: {submission.score}\\nID: {submission.id}\\n\")\n",
    "\n",
    "read_posts(\"test\", limit=2)"
   ]
  },
  {
   "cell_type": "markdown",
   "metadata": {
    "id": "vRKAq_TiPXKK"
   },
   "source": [
    "Updating\n"
   ]
  },
  {
   "cell_type": "code",
   "execution_count": 17,
   "metadata": {
    "colab": {
     "base_uri": "https://localhost:8080/"
    },
    "id": "9FvrjwQqNNZi",
    "outputId": "dd47bc53-387b-4c15-9287-1841cfda9b03"
   },
   "outputs": [
    {
     "name": "stderr",
     "output_type": "stream",
     "text": [
      "<ipython-input-17-f1b48dfd0c38>:3: DeprecationWarning: Reddit will check for validation on all posts around May-June 2020. It is recommended to check for validation by setting reddit.validate_on_submit to True.\n",
      "  submission.edit(new_content)\n",
      "WARNING:praw:It appears that you are using PRAW in an asynchronous environment.\n",
      "It is strongly recommended to use Async PRAW: https://asyncpraw.readthedocs.io.\n",
      "See https://praw.readthedocs.io/en/latest/getting_started/multiple_instances.html#discord-bots-and-asynchronous-environments for more info.\n",
      "\n"
     ]
    },
    {
     "name": "stdout",
     "output_type": "stream",
     "text": [
      "Updated post with ID 1gtix07: Hello Reddit from Colab!\n"
     ]
    }
   ],
   "source": [
    "def update_post(post_id, new_content):\n",
    "    submission = reddit.submission(id=post_id)\n",
    "    submission.edit(new_content)\n",
    "    print(f\"Updated post with ID {post_id}: {submission.title}\")\n",
    "\n",
    "update_post(\"1gtix07\", \"This is the updated content for my post.\")"
   ]
  },
  {
   "cell_type": "markdown",
   "metadata": {
    "id": "5jpjnqgKP79A"
   },
   "source": [
    "Deleting"
   ]
  },
  {
   "cell_type": "code",
   "execution_count": 18,
   "metadata": {
    "colab": {
     "base_uri": "https://localhost:8080/"
    },
    "id": "c2Q1_ZrvPmbQ",
    "outputId": "2056bdd1-36ef-4ec4-accd-5cffa5dc0899"
   },
   "outputs": [
    {
     "name": "stderr",
     "output_type": "stream",
     "text": [
      "WARNING:praw:It appears that you are using PRAW in an asynchronous environment.\n",
      "It is strongly recommended to use Async PRAW: https://asyncpraw.readthedocs.io.\n",
      "See https://praw.readthedocs.io/en/latest/getting_started/multiple_instances.html#discord-bots-and-asynchronous-environments for more info.\n",
      "\n"
     ]
    },
    {
     "name": "stdout",
     "output_type": "stream",
     "text": [
      "Deleted post with ID: 1gtix07\n"
     ]
    }
   ],
   "source": [
    "def delete_post(post_id):\n",
    "    submission = reddit.submission(id=post_id)\n",
    "    submission.delete()\n",
    "    print(f\"Deleted post with ID: {post_id}\")\n",
    "\n",
    "delete_post(\"1gtix07\")"
   ]
  },
  {
   "cell_type": "code",
   "execution_count": 19,
   "metadata": {
    "id": "NkZnV32RQCzZ"
   },
   "outputs": [],
   "source": [
    "def safe_create_post(subreddit_name, title, content):\n",
    "    try:\n",
    "        subreddit = reddit.subreddit(subreddit_name)\n",
    "        post = subreddit.submit(title, selftext=content)\n",
    "        print(f\"Created post: {post.title} (ID: {post.id})\")\n",
    "    except Exception as e:\n",
    "        print(f\"Error creating post: {e}\")"
   ]
  },
  {
   "cell_type": "code",
   "execution_count": null,
   "metadata": {
    "id": "7oaqGEWzQLar"
   },
   "outputs": [],
   "source": []
  }
 ],
 "metadata": {
  "colab": {
   "provenance": []
  },
  "kernelspec": {
   "display_name": "Python 3",
   "name": "python3"
  },
  "language_info": {
   "name": "python"
  }
 },
 "nbformat": 4,
 "nbformat_minor": 0
}
